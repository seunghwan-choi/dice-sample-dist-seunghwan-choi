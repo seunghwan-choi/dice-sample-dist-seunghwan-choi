{
  "cells": [
    {
      "cell_type": "markdown",
      "metadata": {},
      "source": [
        "# Introduction\n",
        "\n",
        "Suppose there is a bag containing two types of dice, which are visually \n",
        "identical but have different probabilities of rolling each number. Someone \n",
        "selects a die from the bag at random, rolls it a fixed number of times, \n",
        "reports the outcomes, returns it to the bag, and repeats the process. \n",
        "Eventually, you will write code that can figure out, from the results of such \n",
        "an experiment, the probability of each die type rolling each number as well as \n",
        "the probability of selecting a die of each type from the bag. An example \n",
        "output for two four-sided dice might be something like:\n",
        "\n",
        "```\n",
        "(0.4, 0.6, (0.25, 0.25, 0.25, 0.25), (0.1, 0.1, 0.1, 0.7))\n",
        "```\n",
        "\n",
        "indicating that the two dice were four-sided and the first type, which is \n",
        "drawn with probability 0.4, is fair, while the second type, drawn with \n",
        "probability 0.6, rolls a 4 70% of the time and each of the other numbers \n",
        "10% of the time. But you're not going to attack that yet. For now, you're \n",
        "simply going to simulate the process of drawing and rolling, that is, \n",
        "producing a sample from the bag-of-dice probability distribution.  "
      ]
    },
    {
      "cell_type": "markdown",
      "metadata": {},
      "source": [
        "# Completing the Assignment\n",
        "\n",
        "Complete the code for `generate_sample()` in `dice_sample/assignment.py` such \n",
        "that all tests pass.\n"
      ]
    },
    {
      "cell_type": "code",
      "execution_count": 2,
      "metadata": {},
      "outputs": [
        {
          "data": {
            "text/plain": [
              "array([[3, 1, 0, 3, 3, 3, 3, 3, 3, 3],\n",
              "       [1, 2, 1, 3, 0, 3, 1, 3, 2, 1],\n",
              "       [0, 0, 3, 3, 3, 0, 3, 3, 3, 3],\n",
              "       [2, 3, 3, 3, 3, 3, 3, 0, 3, 3],\n",
              "       [1, 3, 1, 3, 3, 3, 3, 2, 2, 3]])"
            ]
          },
          "execution_count": 2,
          "metadata": {},
          "output_type": "execute_result"
        }
      ],
      "source": [
        "from dice_sample.assignment import generate_sample\n",
        "generate_sample((4, 6), ((0.25, 0.25, 0.25, 0.25), (0.1, 0.1, 0.1, 0.7)), 5, 10)"
      ]
    },
    {
      "cell_type": "markdown",
      "metadata": {},
      "source": [
        "This outputs a 5 by 10 numpy array, which represent of five the result of five iterations of drawing a die from the bag, rolling it 10 times, and returning it to the bag. Each row gives the results of one draw. The first argument to `generate_sample` indicates that the bag contains 4 type 0 dice and 6 type 1 dice. The second argument provides the probability of rolling each of four faces on each die type. The last two arguments are the number of draws and the number of rolls per draw, respectively. The output contains many 3s because die type 1 favors 3's and there are more type 1 dice in the bag than type 0 dice. Remember that python is zero-indexed so the first die type is denoted by a 0 and the first face on each die is also referred to as face 0."
      ]
    },
    {
      "cell_type": "markdown",
      "metadata": {},
      "source": []
    },
    {
      "cell_type": "markdown",
      "metadata": {},
      "source": [
        "Your assignment is to complete the provided code for generate_sample in such a way that it passes all the tests in the file `test_assigment.py`. You can run the tests by clicking on the flask icon at the left of vscode and then clicking on the \">\" to run individual tests or groups of tests."
      ]
    },
    {
      "cell_type": "markdown",
      "metadata": {},
      "source": []
    }
  ],
  "metadata": {
    "kernelspec": {
      "display_name": "Python 3 (ipykernel)",
      "language": "python",
      "name": "python3"
    },
    "language_info": {
      "codemirror_mode": {
        "name": "ipython",
        "version": 3
      },
      "file_extension": ".py",
      "mimetype": "text/x-python",
      "name": "python",
      "nbconvert_exporter": "python",
      "pygments_lexer": "ipython3",
      "version": "3.10.12"
    }
  },
  "nbformat": 4,
  "nbformat_minor": 4
}
